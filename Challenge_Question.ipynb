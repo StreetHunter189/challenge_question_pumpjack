{
 "cells": [
  {
   "cell_type": "code",
   "execution_count": 70,
   "id": "04522855",
   "metadata": {},
   "outputs": [],
   "source": [
    "import pyspark.sql.functions as F\n",
    "from pyspark.sql import * \n",
    "\n",
    "spark=SparkSession.builder.appName('Challenge_Question').getOrCreate()\n"
   ]
  },
  {
   "cell_type": "code",
   "execution_count": 71,
   "id": "f612e6a6",
   "metadata": {},
   "outputs": [],
   "source": [
    "df_users=spark.read.csv('users.csv',header=True,inferSchema=True)"
   ]
  },
  {
   "cell_type": "code",
   "execution_count": 72,
   "id": "fc764c20",
   "metadata": {},
   "outputs": [],
   "source": [
    "df_departments=spark.read.csv('departments.csv',header=True,inferSchema=True)"
   ]
  },
  {
   "cell_type": "code",
   "execution_count": 73,
   "id": "5061da46",
   "metadata": {},
   "outputs": [
    {
     "name": "stdout",
     "output_type": "stream",
     "text": [
      "root\n",
      " |-- id: integer (nullable = true)\n",
      " |-- first_name: string (nullable = true)\n",
      " |-- last_name: string (nullable = true)\n",
      " |-- salary: integer (nullable = true)\n",
      " |-- dept_id: integer (nullable = true)\n",
      "\n",
      "root\n",
      " |-- id: integer (nullable = true)\n",
      " |-- dept_name: string (nullable = true)\n",
      " |-- salary_increment: integer (nullable = true)\n",
      "\n"
     ]
    }
   ],
   "source": [
    "df_users.printSchema()\n",
    "df_departments.printSchema()"
   ]
  },
  {
   "cell_type": "code",
   "execution_count": 74,
   "id": "bd61d0a9",
   "metadata": {},
   "outputs": [
    {
     "data": {
      "text/plain": [
       "['id', 'dept_name', 'salary_increment']"
      ]
     },
     "execution_count": 74,
     "metadata": {},
     "output_type": "execute_result"
    }
   ],
   "source": [
    "df_users.columns\n",
    "df_departments.columns"
   ]
  },
  {
   "cell_type": "code",
   "execution_count": 78,
   "id": "d373be09",
   "metadata": {},
   "outputs": [],
   "source": [
    "a=df_users.alias('a')\n",
    "b=df_departments.alias('b')"
   ]
  },
  {
   "cell_type": "code",
   "execution_count": 133,
   "id": "66de70b4",
   "metadata": {},
   "outputs": [
    {
     "name": "stdout",
     "output_type": "stream",
     "text": [
      "+-----+----------+\n",
      "|   id|New_Salary|\n",
      "+-----+----------+\n",
      "|10000|    4291.1|\n",
      "|10001|   6312.35|\n",
      "|10002|    7077.2|\n",
      "|10003|  11241.25|\n",
      "|10004|  10942.25|\n",
      "|10005|   10546.9|\n",
      "|10006|   10979.8|\n",
      "|10007|   6021.25|\n",
      "|10008|    6064.3|\n",
      "|10009|    5931.7|\n",
      "|10010|    6444.1|\n",
      "|10011|    4250.4|\n",
      "|10012|   7883.25|\n",
      "|10013|    9200.1|\n",
      "|10014|   9373.75|\n",
      "|10015|   4909.35|\n",
      "|10016|    9753.9|\n",
      "|10017|    5262.4|\n",
      "|10018|  11648.75|\n",
      "|10019|   10289.4|\n",
      "+-----+----------+\n",
      "only showing top 20 rows\n",
      "\n"
     ]
    }
   ],
   "source": [
    "updated_salaries=a.join(b,a.dept_id==b.id, 'left').select(a.id,   ((a.salary * b.salary_increment/100) + a.salary).alias(\"New_Salary\"))\n",
    "\n",
    "updated_salaries.show()\n"
   ]
  },
  {
   "cell_type": "code",
   "execution_count": null,
   "id": "34fe7809",
   "metadata": {},
   "outputs": [],
   "source": []
  },
  {
   "cell_type": "code",
   "execution_count": null,
   "id": "88bfb327",
   "metadata": {},
   "outputs": [],
   "source": []
  },
  {
   "cell_type": "code",
   "execution_count": null,
   "id": "48aa1ced",
   "metadata": {},
   "outputs": [],
   "source": []
  }
 ],
 "metadata": {
  "kernelspec": {
   "display_name": "Python 3",
   "language": "python",
   "name": "python3"
  },
  "language_info": {
   "codemirror_mode": {
    "name": "ipython",
    "version": 3
   },
   "file_extension": ".py",
   "mimetype": "text/x-python",
   "name": "python",
   "nbconvert_exporter": "python",
   "pygments_lexer": "ipython3",
   "version": "3.8.8"
  }
 },
 "nbformat": 4,
 "nbformat_minor": 5
}
